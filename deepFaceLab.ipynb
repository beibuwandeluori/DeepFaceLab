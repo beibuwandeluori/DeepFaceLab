{
  "nbformat": 4,
  "nbformat_minor": 0,
  "metadata": {
    "colab": {
      "name": "deepFaceLab.ipynb",
      "version": "0.3.2",
      "provenance": [],
      "include_colab_link": true
    },
    "kernelspec": {
      "name": "python3",
      "display_name": "Python 3"
    },
    "accelerator": "GPU"
  },
  "cells": [
    {
      "cell_type": "markdown",
      "metadata": {
        "id": "view-in-github",
        "colab_type": "text"
      },
      "source": [
        "<a href=\"https://colab.research.google.com/github/beibuwandeluori/DeepFaceLab/blob/master/deepFaceLab.ipynb\" target=\"_parent\"><img src=\"https://colab.research.google.com/assets/colab-badge.svg\" alt=\"Open In Colab\"/></a>"
      ]
    },
    {
      "cell_type": "markdown",
      "metadata": {
        "id": "fDc8a5kmnJvs",
        "colab_type": "text"
      },
      "source": [
        "# 第一步 准备好workspace\n",
        "学习链接来源：https://github.com/dream80/DeepFaceLab_Colab/blob/master/DeepFaceLab_Colab_zh_cn.ipynb\n",
        "\n",
        "这一部你可以选着两种方式\n",
        "\n",
        "1.使用默认的workspace，你无需自己上传，仅用于熟悉操作。\n",
        "\n",
        "2.通过Google Drive （谷歌云盘）上传自己的workspace到指定目录。\n",
        "\n",
        "注意：谷歌网址现在都需要“科学上网”才能访问。"
      ]
    },
    {
      "cell_type": "code",
      "metadata": {
        "id": "2Pfo6uD5nZ1c",
        "colab_type": "code",
        "colab": {
          "base_uri": "https://localhost:8080/",
          "height": 121
        },
        "outputId": "f32f73d3-9430-4ae6-da1a-70e4ae14c55e"
      },
      "source": [
        "# 1.挂载谷歌云盘\n",
        "# 点击链接授权，复制授权嘛，填入方框回车。\n",
        "\n",
        "from google.colab import drive\n",
        "\n",
        "drive.mount('/content/drive', force_remount=True)"
      ],
      "execution_count": 1,
      "outputs": [
        {
          "output_type": "stream",
          "text": [
            "Go to this URL in a browser: https://accounts.google.com/o/oauth2/auth?client_id=947318989803-6bn6qk8qdgf4n4g3pfee6491hc0brc4i.apps.googleusercontent.com&redirect_uri=urn%3Aietf%3Awg%3Aoauth%3A2.0%3Aoob&scope=email%20https%3A%2F%2Fwww.googleapis.com%2Fauth%2Fdocs.test%20https%3A%2F%2Fwww.googleapis.com%2Fauth%2Fdrive%20https%3A%2F%2Fwww.googleapis.com%2Fauth%2Fdrive.photos.readonly%20https%3A%2F%2Fwww.googleapis.com%2Fauth%2Fpeopleapi.readonly&response_type=code\n",
            "\n",
            "Enter your authorization code:\n",
            "··········\n",
            "Mounted at /content/drive\n"
          ],
          "name": "stdout"
        }
      ]
    },
    {
      "cell_type": "code",
      "metadata": {
        "id": "NzooQ5DcoxHV",
        "colab_type": "code",
        "colab": {
          "base_uri": "https://localhost:8080/",
          "height": 51
        },
        "outputId": "d7d820cf-b8db-4a14-d4af-50a632ba7e7c"
      },
      "source": [
        "# 2.创建DeepFaceLab目录，并且进入目录\n",
        "%cd /content/drive/My\\ Drive/\n",
        "!mkdir DeepFaceLab\n",
        "%cd /content/drive/My\\ Drive/DeepFaceLab/"
      ],
      "execution_count": 2,
      "outputs": [
        {
          "output_type": "stream",
          "text": [
            "/content/drive/My Drive\n",
            "/content/drive/My Drive/DeepFaceLab\n"
          ],
          "name": "stdout"
        }
      ]
    },
    {
      "cell_type": "code",
      "metadata": {
        "id": "LVBZHMkUpK6m",
        "colab_type": "code",
        "colab": {
          "base_uri": "https://localhost:8080/",
          "height": 118
        },
        "outputId": "9db47888-c246-4c17-fdc4-393f42c408fa"
      },
      "source": [
        "# 3.下载workspace数据\n",
        "!git clone https://github.com/dream80/DFLWorkspace.git workspace"
      ],
      "execution_count": 3,
      "outputs": [
        {
          "output_type": "stream",
          "text": [
            "Cloning into 'workspace'...\n",
            "remote: Enumerating objects: 18, done.\u001b[K\n",
            "remote: Counting objects: 100% (18/18), done.\u001b[K\n",
            "remote: Compressing objects: 100% (12/12), done.\u001b[K\n",
            "remote: Total 18 (delta 2), reused 18 (delta 2), pack-reused 0\u001b[K\n",
            "Unpacking objects: 100% (18/18), done.\n"
          ],
          "name": "stdout"
        }
      ]
    },
    {
      "cell_type": "markdown",
      "metadata": {
        "id": "Z8LLlA-Vq3Z2",
        "colab_type": "text"
      },
      "source": [
        "# 第二步 安装DeepFaceLab"
      ]
    },
    {
      "cell_type": "code",
      "metadata": {
        "id": "0awEyL4YrAF-",
        "colab_type": "code",
        "colab": {}
      },
      "source": [
        "# 1.获取DFL源代码\n",
        "!git clone https://github.com/iperov/DeepFaceLab.git"
      ],
      "execution_count": 0,
      "outputs": []
    },
    {
      "cell_type": "code",
      "metadata": {
        "id": "SxBOXPQ_shVf",
        "colab_type": "code",
        "colab": {}
      },
      "source": [
        "# 2.进入DeepFaceLab目录\n",
        "%cd /content/drive/My Drive/DeepFaceLab/DeepFaceLab"
      ],
      "execution_count": 0,
      "outputs": []
    },
    {
      "cell_type": "code",
      "metadata": {
        "id": "Irh7hirFtAVz",
        "colab_type": "code",
        "colab": {}
      },
      "source": [
        "# 3.安装Python依赖\n",
        "!pip install -r requirements-colab.txt\n",
        "!pip install --upgrade scikit-image"
      ],
      "execution_count": 0,
      "outputs": []
    },
    {
      "cell_type": "markdown",
      "metadata": {
        "id": "pZR6FWEWturL",
        "colab_type": "text"
      },
      "source": [
        "# 第三步 提取脸部"
      ]
    },
    {
      "cell_type": "code",
      "metadata": {
        "id": "KsT3kkbauAtF",
        "colab_type": "code",
        "colab": {
          "base_uri": "https://localhost:8080/",
          "height": 34
        },
        "outputId": "12bc8e48-409d-43f7-99ce-20cfe63ed151"
      },
      "source": [
        "# 1.确保路径正确，进入DeepFaceLab\n",
        "\n",
        "%cd /content/drive/My Drive/DeepFaceLab/DeepFaceLab"
      ],
      "execution_count": 1,
      "outputs": [
        {
          "output_type": "stream",
          "text": [
            "/content/drive/My Drive/DeepFaceLab/DeepFaceLab\n"
          ],
          "name": "stdout"
        }
      ]
    },
    {
      "cell_type": "code",
      "metadata": {
        "id": "p79_IXWjuLfM",
        "colab_type": "code",
        "colab": {}
      },
      "source": [
        "# 2.SRC视频转图片\n",
        "\n",
        "!python main.py videoed extract-video --input-file ../workspace/data_src.mp4 --output-dir ../workspace/data_src/"
      ],
      "execution_count": 0,
      "outputs": []
    },
    {
      "cell_type": "code",
      "metadata": {
        "id": "ZbGh1YN6u-Ft",
        "colab_type": "code",
        "colab": {}
      },
      "source": [
        "# 3.SRC提取脸部图片\n",
        "\n",
        "!python main.py extract --input-dir ../workspace/data_src --output-dir ../workspace/data_src/aligned --detector s3fd --debug-dir ../workspace/data_src/aligned_debug"
      ],
      "execution_count": 0,
      "outputs": []
    },
    {
      "cell_type": "code",
      "metadata": {
        "id": "8RH3TFKHvauD",
        "colab_type": "code",
        "colab": {
          "base_uri": "https://localhost:8080/",
          "height": 189
        },
        "outputId": "2044b309-c982-49c9-b613-8e60d4fcb894"
      },
      "source": [
        "# 4.SRC排序，可以通过谷歌云盘查看结果，删除不良图片\n",
        "\n",
        "!python main.py sort --input-dir ../workspace/data_src/aligned --by hist"
      ],
      "execution_count": 11,
      "outputs": [
        {
          "output_type": "stream",
          "text": [
            "Running sort tool.\r\n",
            "\n",
            "Sorting by histogram similarity...\n",
            "Running on CPU0.\n",
            "Sorting: 100% 654/654 [00:02<00:00, 246.66it/s]/usr/lib/python3.6/multiprocessing/semaphore_tracker.py:143: UserWarning: semaphore_tracker: There appear to be 1 leaked semaphores to clean up at shutdown\n",
            "  len(cache))\n",
            "Sorting: 100% 654/654 [00:02<00:00, 240.74it/s]\n",
            "Renaming: 100% 654/654 [00:01<00:00, 351.61it/s]\n",
            "Done.\n"
          ],
          "name": "stdout"
        }
      ]
    },
    {
      "cell_type": "code",
      "metadata": {
        "id": "PUkeX8alNonb",
        "colab_type": "code",
        "colab": {}
      },
      "source": [
        "# 5.DST视频转图片\n",
        "\n",
        "!python main.py videoed extract-video --input-file ../workspace/data_dst.mp4 --output-dir ../workspace/data_dst/"
      ],
      "execution_count": 0,
      "outputs": []
    },
    {
      "cell_type": "code",
      "metadata": {
        "id": "7GhP4DMBOwhC",
        "colab_type": "code",
        "colab": {
          "base_uri": "https://localhost:8080/",
          "height": 560
        },
        "outputId": "defbbe17-79b9-4792-9747-b41e5498e0a4"
      },
      "source": [
        "# 6.DST提取脸部图片\n",
        "\n",
        "!python main.py extract --input-dir ../workspace/data_dst --output-dir ../workspace/data_dst/aligned --detector s3fd --debug-dir ../workspace/data_dst/aligned_debug"
      ],
      "execution_count": 2,
      "outputs": [
        {
          "output_type": "stream",
          "text": [
            "Performing 1st pass...\n",
            "Running on Tesla T4.\n",
            "Using TensorFlow backend.\n",
            "WARNING:tensorflow:From /usr/local/lib/python3.6/dist-packages/tensorflow/python/framework/op_def_library.py:263: colocate_with (from tensorflow.python.framework.ops) is deprecated and will be removed in a future version.\n",
            "Instructions for updating:\n",
            "Colocations handled automatically by placer.\n",
            "100% 1538/1538 [09:31<00:00,  2.69it/s]/usr/lib/python3.6/multiprocessing/semaphore_tracker.py:143: UserWarning: semaphore_tracker: There appear to be 1 leaked semaphores to clean up at shutdown\n",
            "  len(cache))\n",
            "100% 1538/1538 [09:31<00:00,  2.69it/s]\n",
            "Performing 2nd pass...\n",
            "Running on Tesla T4.\n",
            "Using TensorFlow backend.\n",
            "WARNING:tensorflow:From /usr/local/lib/python3.6/dist-packages/tensorflow/python/framework/op_def_library.py:263: colocate_with (from tensorflow.python.framework.ops) is deprecated and will be removed in a future version.\n",
            "Instructions for updating:\n",
            "Colocations handled automatically by placer.\n",
            "100% 1538/1538 [03:30<00:00,  7.32it/s]/usr/lib/python3.6/multiprocessing/semaphore_tracker.py:143: UserWarning: semaphore_tracker: There appear to be 1 leaked semaphores to clean up at shutdown\n",
            "  len(cache))\n",
            "100% 1538/1538 [03:30<00:00,  7.31it/s]\n",
            "Performing 3rd pass...\n",
            "Running on CPU0.\n",
            "Running on CPU1.\n",
            "100% 1538/1538 [02:41<00:00,  9.54it/s]/usr/lib/python3.6/multiprocessing/semaphore_tracker.py:143: UserWarning: semaphore_tracker: There appear to be 1 leaked semaphores to clean up at shutdown\n",
            "  len(cache))\n",
            "/usr/lib/python3.6/multiprocessing/semaphore_tracker.py:143: UserWarning: semaphore_tracker: There appear to be 1 leaked semaphores to clean up at shutdown\n",
            "  len(cache))\n",
            "100% 1538/1538 [02:41<00:00,  9.54it/s]\n",
            "-------------------------\n",
            "Images found:        1538\n",
            "Faces detected:      1521\n",
            "-------------------------\n",
            "Done.\n"
          ],
          "name": "stdout"
        }
      ]
    },
    {
      "cell_type": "code",
      "metadata": {
        "id": "3OCc-6wSNvCB",
        "colab_type": "code",
        "colab": {
          "base_uri": "https://localhost:8080/",
          "height": 189
        },
        "outputId": "d5d3380b-186d-4fe1-d950-05f43bfeabce"
      },
      "source": [
        "# 7.DST排序，可以通过谷歌云盘查看结果，删除不良图片\n",
        "\n",
        "!python main.py sort --input-dir ../workspace/data_dst/aligned --by hist"
      ],
      "execution_count": 3,
      "outputs": [
        {
          "output_type": "stream",
          "text": [
            "Running sort tool.\r\n",
            "\n",
            "Sorting by histogram similarity...\n",
            "Running on CPU0.\n",
            "Sorting: 100% 1521/1521 [00:07<00:00, 208.31it/s]/usr/lib/python3.6/multiprocessing/semaphore_tracker.py:143: UserWarning: semaphore_tracker: There appear to be 1 leaked semaphores to clean up at shutdown\n",
            "  len(cache))\n",
            "Sorting: 100% 1521/1521 [00:07<00:00, 203.15it/s]\n",
            "Renaming: 100% 1521/1521 [00:04<00:00, 369.59it/s]\n",
            "Done.\n"
          ],
          "name": "stdout"
        }
      ]
    },
    {
      "cell_type": "markdown",
      "metadata": {
        "id": "3Sd_bOrkOCZ4",
        "colab_type": "text"
      },
      "source": [
        "# 第四步 训练模型\n",
        "\n",
        "\n",
        "*  支持H128,SAE,DF, LIAEF128等模型，根据自己的情况选择模型。\n",
        "*  训练开始是需要配置参数，记得开启预览，其他参数根据自己情况选择，使用默认参数的话直接回车即可。\n",
        "*  不想训练了可以点击停止，停止时会抛出异常，但是没什么关系。下次可以继续训练\n",
        "*  如果想要查看history ，先停止训练，然后点击下面第三段代码\n"
      ]
    },
    {
      "cell_type": "code",
      "metadata": {
        "id": "kWSuvSqzT4un",
        "colab_type": "code",
        "colab": {
          "base_uri": "https://localhost:8080/",
          "height": 34
        },
        "outputId": "251dcd0e-ae3f-4c6d-e3fd-d7fcbc1bb65d"
      },
      "source": [
        "# 确保路径正确，进入DeepFaceLab_Colab\n",
        "\n",
        "%cd /content/drive/My Drive/DeepFaceLab/DeepFaceLab"
      ],
      "execution_count": 2,
      "outputs": [
        {
          "output_type": "stream",
          "text": [
            "/content/drive/My Drive/DeepFaceLab/DeepFaceLab\n"
          ],
          "name": "stdout"
        }
      ]
    },
    {
      "cell_type": "markdown",
      "metadata": {
        "id": "f6zPo20DUBUQ",
        "colab_type": "text"
      },
      "source": [
        "下面是启动模型训练的脚本，不要全部点，只要点其中一个。默认使用第一个SAE"
      ]
    },
    {
      "cell_type": "code",
      "metadata": {
        "id": "43SuLEl0UEnB",
        "colab_type": "code",
        "colab": {
          "base_uri": "https://localhost:8080/",
          "height": 1400
        },
        "outputId": "9f890ecf-2bbc-4e2e-87d7-7209e3a5234e"
      },
      "source": [
        "# 1.Running trainer. SAE \n",
        "\n",
        "!python main.py train --training-data-src-dir ../workspace/data_src/aligned --training-data-dst-dir ../workspace/data_dst/aligned --model-dir ../workspace/model --model SAE --no-preview"
      ],
      "execution_count": 0,
      "outputs": [
        {
          "output_type": "stream",
          "text": [
            "Running trainer.\r\n",
            "\n",
            "Loading model...\n",
            "\n",
            "Model first run. Enter model options as default for each run.\n",
            "Write preview history? (y/n ?:help skip:n) : y\n",
            "Target iteration (skip:unlimited/default) : \n",
            "0\n",
            "Batch_size (?:help skip:0) : 16\n",
            "Feed faces to network sorted by yaw? (y/n ?:help skip:n) : \n",
            "n\n",
            "Flip faces randomly? (y/n ?:help skip:y) : \n",
            "y\n",
            "Src face scale modifier % ( -30...30, ?:help skip:0) : \n",
            "0\n",
            "Resolution ( 64-256 ?:help skip:128) : \n",
            "128\n",
            "Half or Full face? (h/f, ?:help skip:f) : \n",
            "f\n",
            "Learn mask? (y/n, ?:help skip:y) : \n",
            "y\n",
            "Optimizer mode? ( 1,2,3 ?:help skip:1) : \n",
            "1\n",
            "AE architecture (df, liae ?:help skip:df) : \n",
            "df\n",
            "AutoEncoder dims (32-1024 ?:help skip:512) : \n",
            "512\n",
            "Encoder dims per channel (21-85 ?:help skip:42) : \n",
            "42\n",
            "Decoder dims per channel (10-85 ?:help skip:21) : \n",
            "21\n",
            "Use multiscale decoder? (y/n, ?:help skip:n) : \n",
            "n\n",
            "Use CA weights? (y/n, ?:help skip: n ) : \n",
            "n\n",
            "Use pixel loss? (y/n, ?:help skip: n ) : y\n",
            "Face style power ( 0.0 .. 100.0 ?:help skip:0.00) : \n",
            "0.0\n",
            "Background style power ( 0.0 .. 100.0 ?:help skip:0.00) : \n",
            "0.0\n",
            "Pretrain the model? (y/n, ?:help skip:n) : \n",
            "n\n",
            "Using TensorFlow backend.\n",
            "WARNING:tensorflow:From /usr/local/lib/python3.6/dist-packages/tensorflow/python/framework/op_def_library.py:263: colocate_with (from tensorflow.python.framework.ops) is deprecated and will be removed in a future version.\n",
            "Instructions for updating:\n",
            "Colocations handled automatically by placer.\n",
            "WARNING:tensorflow:From /usr/local/lib/python3.6/dist-packages/tensorflow/python/ops/math_ops.py:3066: to_int32 (from tensorflow.python.ops.math_ops) is deprecated and will be removed in a future version.\n",
            "Instructions for updating:\n",
            "Use tf.cast instead.\n",
            "Loading: 100% 654/654 [02:34<00:00,  3.91it/s]\n",
            "Loading: 100% 1521/1521 [00:04<00:00, 355.23it/s]\n",
            "===== Model summary =====\n",
            "== Model name: SAE\n",
            "==\n",
            "== Current iteration: 0\n",
            "==\n",
            "== Model options:\n",
            "== |== write_preview_history : True\n",
            "== |== batch_size : 16\n",
            "== |== sort_by_yaw : False\n",
            "== |== random_flip : True\n",
            "== |== resolution : 128\n",
            "== |== face_type : f\n",
            "== |== learn_mask : True\n",
            "== |== optimizer_mode : 1\n",
            "== |== archi : df\n",
            "== |== ae_dims : 512\n",
            "== |== e_ch_dims : 42\n",
            "== |== d_ch_dims : 21\n",
            "== |== multiscale_decoder : False\n",
            "== |== ca_weights : False\n",
            "== |== pixel_loss : True\n",
            "== |== face_style_power : 0.0\n",
            "== |== bg_style_power : 0.0\n",
            "== Running on:\n",
            "== |== [0 : Tesla T4]\n",
            "=========================\n",
            "Starting. Press \"Enter\" to stop training and save model.\n",
            "[10:57:06][#000001][20.81s][1.4395][0.7766]\n",
            "[11:05:09][#000245][1875ms][0.3442][0.1187]"
          ],
          "name": "stdout"
        }
      ]
    },
    {
      "cell_type": "code",
      "metadata": {
        "id": "wqPfol4hUMJH",
        "colab_type": "code",
        "colab": {}
      },
      "source": [
        "# 2.Running trainer  H128\n",
        "\n",
        "!python main.py train --training-data-src-dir ../workspace/data_src/aligned --training-data-dst-dir ../workspace/data_dst/aligned --model-dir ../workspace/model --model H128 --no-preview"
      ],
      "execution_count": 0,
      "outputs": []
    },
    {
      "cell_type": "code",
      "metadata": {
        "id": "soXYBAODUpXp",
        "colab_type": "code",
        "colab": {}
      },
      "source": [
        "# 3.Running trainer. DF \n",
        "\n",
        "!python main.py train --training-data-src-dir ../workspace/data_src/aligned --training-data-dst-dir ../workspace/data_dst/aligned --model-dir ../workspace/model --model DF --no-preview"
      ],
      "execution_count": 0,
      "outputs": []
    },
    {
      "cell_type": "code",
      "metadata": {
        "id": "5f1GTvRjViQa",
        "colab_type": "code",
        "colab": {}
      },
      "source": [
        "# 4.Running trainer. LIAEF128 \n",
        "\n",
        "!python main.py train --training-data-src-dir ../workspace/data_src/aligned --training-data-dst-dir ../workspace/data_dst/aligned --model-dir ../workspace/model --model LIAEF128 --no-preview"
      ],
      "execution_count": 0,
      "outputs": []
    },
    {
      "cell_type": "markdown",
      "metadata": {
        "id": "ClD6PHzrVqvP",
        "colab_type": "text"
      },
      "source": [
        "模型预览请使用独立的colab脚本： https://github.com/dream80/DeepFaceLab_Colab/blob/master/ViewLastHistory.ipynb"
      ]
    },
    {
      "cell_type": "markdown",
      "metadata": {
        "id": "r5wqAfmJWAFC",
        "colab_type": "text"
      },
      "source": [
        "# 第五步 转换输出\n",
        "默认使用SAE进行转换，如果需要其他模型，请修改命令中的参数。\n",
        "\n",
        "比如将 --model SAE 修改为 --model H128"
      ]
    },
    {
      "cell_type": "code",
      "metadata": {
        "id": "JlReNodVWCDb",
        "colab_type": "code",
        "colab": {}
      },
      "source": [
        "# 1.用src中的脸替换dst的脸 \n",
        "!python main.py convert --input-dir ../workspace/data_dst --output-dir ../workspace/data_dst/merged --aligned-dir ../workspace/data_dst/aligned --model-dir ../workspace/model --model SAE"
      ],
      "execution_count": 0,
      "outputs": []
    },
    {
      "cell_type": "code",
      "metadata": {
        "id": "WbjKdDcPWIup",
        "colab_type": "code",
        "colab": {}
      },
      "source": [
        "# 2.把替换好的图片转换成视频\n",
        "\n",
        "!python main.py videoed video-from-sequence --input-dir ../workspace/data_dst/merged --output-file ../workspace/result.mp4 --reference-file ../workspace/data_dst.mp4"
      ],
      "execution_count": 0,
      "outputs": []
    },
    {
      "cell_type": "markdown",
      "metadata": {
        "id": "fBLyZKtBWMpR",
        "colab_type": "text"
      },
      "source": [
        "# 第六步 继续训练\n",
        "当你第二次开始训练，或者掉线之后继续训练时并不需要执行上面所有的步骤。只需要下面简单的几个步骤。\n",
        "1. 挂载云盘\n",
        "2. 安装依赖\n",
        "3. 开始训练"
      ]
    },
    {
      "cell_type": "code",
      "metadata": {
        "id": "3DnNaFw5WtLb",
        "colab_type": "code",
        "colab": {}
      },
      "source": [
        "#挂载谷歌云盘\n",
        "#点击链接授权，复制授权码，填入框框，然后回车。\n",
        "\n",
        "from google.colab import drive\n",
        "drive.mount('/content/drive', force_remount=True)\n",
        "\n",
        "# 进入DeepFaceLab_Colab目录\n",
        "%cd /content/drive/My Drive/DeepFaceLab/DeepFaceLab\n",
        "\n",
        "# 安装Python依赖\n",
        "!pip install -r requirements-colab.txt\n",
        "!pip install --upgrade scikit-image\n",
        "\n",
        "# 开始训练SAE ，如果是其他模型，修改后面的参数即可。\n",
        "\n",
        "!python main.py train --training-data-src-dir ../workspace/data_src/aligned --training-data-dst-dir ../workspace/data_dst/aligned --model-dir ../workspace/model --model SAE --no-preview"
      ],
      "execution_count": 0,
      "outputs": []
    }
  ]
}